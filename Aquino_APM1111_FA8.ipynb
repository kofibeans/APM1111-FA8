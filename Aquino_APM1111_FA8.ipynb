{
  "nbformat": 4,
  "nbformat_minor": 0,
  "metadata": {
    "colab": {
      "provenance": [],
      "authorship_tag": "ABX9TyNIZAmmPVTK3ay6KYH0K/Tj",
      "include_colab_link": true
    },
    "kernelspec": {
      "name": "python3",
      "display_name": "Python 3"
    },
    "language_info": {
      "name": "python"
    }
  },
  "cells": [
    {
      "cell_type": "markdown",
      "metadata": {
        "id": "view-in-github",
        "colab_type": "text"
      },
      "source": [
        "<a href=\"https://colab.research.google.com/github/kofibeans/APM1111-FA8/blob/main/Aquino_APM1111_FA8.ipynb\" target=\"_parent\"><img src=\"https://colab.research.google.com/assets/colab-badge.svg\" alt=\"Open In Colab\"/></a>"
      ]
    },
    {
      "cell_type": "markdown",
      "source": [
        "## **PlantGrowth: One-Way ANOVA**\n",
        "Do a complete data analysis for PlantGrowth in {datasets} package in R using a one-way ANOVA (1B) and provide a complete report in APA style.\n",
        "\n",
        "Null hypothesis: There is no significant difference on weight between treatment groups."
      ],
      "metadata": {
        "id": "ejLkDniqtF6K"
      }
    },
    {
      "cell_type": "markdown",
      "source": [
        "### **Import Library**\n",
        "The following code is written in Python 3.x. Libraries provide pre-written functionality to perform necessary tasks."
      ],
      "metadata": {
        "id": "GvQCvULLtmQe"
      }
    },
    {
      "cell_type": "code",
      "source": [
        "# load packages\n",
        "\n",
        "import sys # access to system parameters\n",
        "print(\"Python version: {}\". format(sys.version))\n",
        "\n",
        "import pandas as pd # collection of functions for data processing and analysis modeled after R dataframes with SQL like features\n",
        "print(\"pandas version: {}\". format(pd.__version__))\n",
        "\n",
        "import matplotlib # collection of functions for scientific and publication-ready visualization\n",
        "print(\"matplotlib version: {}\". format(matplotlib.__version__))\n",
        "\n",
        "import numpy as np # foundational package for scientific computing\n",
        "print(\"NumPy version: {}\". format(np.__version__))\n",
        "\n",
        "import scipy as sp # collection of functions for scientific computing and advanced mathematics\n",
        "print(\"SciPy version: {}\". format(sp.__version__))\n",
        "\n",
        "import IPython\n",
        "from IPython.display import HTML, display # pretty printing of dataframes in Jupyter notebook\n",
        "\n",
        "!pip install pingouin -q -q -q\n",
        "import pingouin as pg\n",
        "\n",
        "print(\"IPython version: {}\". format(IPython.__version__))\n",
        "\n",
        "# data visualization\n",
        "import matplotlib as mpl\n",
        "import matplotlib.pyplot as plt\n",
        "import matplotlib.pylab as pylab\n",
        "import seaborn as sns\n",
        "\n",
        "from pandas.plotting import scatter_matrix\n",
        "\n",
        "# configure visualization defaults\n",
        "#%matplotlib inline = show plots in Jupyter Notebook browser\n",
        "%matplotlib inline\n",
        "mpl.style.use('ggplot')\n",
        "sns.set_style('white')\n",
        "pylab.rcParams['figure.figsize'] = 12,8\n",
        "\n",
        "# misc libraries\n",
        "import random\n",
        "import time\n",
        "\n",
        "# ignore warnings\n",
        "import warnings\n",
        "warnings.filterwarnings('ignore')\n",
        "print('-'*25)"
      ],
      "metadata": {
        "colab": {
          "base_uri": "https://localhost:8080/",
          "height": 144
        },
        "id": "-NFNtCgnt1IA",
        "outputId": "e4504940-b984-473e-e78b-d7ce6641abec"
      },
      "execution_count": 188,
      "outputs": [
        {
          "output_type": "display_data",
          "data": {
            "text/plain": [
              "<IPython.core.display.HTML object>"
            ],
            "text/html": [
              "\n",
              "  <style>\n",
              "    pre {\n",
              "        white-space: pre-wrap;\n",
              "    }\n",
              "  </style>\n",
              "  "
            ]
          },
          "metadata": {}
        },
        {
          "output_type": "display_data",
          "data": {
            "text/plain": [
              "<IPython.core.display.HTML object>"
            ],
            "text/html": [
              "\n",
              "  <style>\n",
              "    pre {\n",
              "        white-space: pre-wrap;\n",
              "    }\n",
              "  </style>\n",
              "  "
            ]
          },
          "metadata": {}
        },
        {
          "output_type": "display_data",
          "data": {
            "text/plain": [
              "<IPython.core.display.HTML object>"
            ],
            "text/html": [
              "\n",
              "  <style>\n",
              "    pre {\n",
              "        white-space: pre-wrap;\n",
              "    }\n",
              "  </style>\n",
              "  "
            ]
          },
          "metadata": {}
        },
        {
          "output_type": "display_data",
          "data": {
            "text/plain": [
              "<IPython.core.display.HTML object>"
            ],
            "text/html": [
              "\n",
              "  <style>\n",
              "    pre {\n",
              "        white-space: pre-wrap;\n",
              "    }\n",
              "  </style>\n",
              "  "
            ]
          },
          "metadata": {}
        },
        {
          "output_type": "display_data",
          "data": {
            "text/plain": [
              "<IPython.core.display.HTML object>"
            ],
            "text/html": [
              "\n",
              "  <style>\n",
              "    pre {\n",
              "        white-space: pre-wrap;\n",
              "    }\n",
              "  </style>\n",
              "  "
            ]
          },
          "metadata": {}
        },
        {
          "output_type": "stream",
          "name": "stdout",
          "text": [
            "Python version: 3.10.12 (main, Jun 11 2023, 05:26:28) [GCC 11.4.0]\n",
            "pandas version: 1.5.3\n",
            "matplotlib version: 3.7.1\n",
            "NumPy version: 1.23.5\n",
            "SciPy version: 1.11.3\n",
            "IPython version: 7.34.0\n",
            "-------------------------\n"
          ]
        }
      ]
    },
    {
      "cell_type": "markdown",
      "source": [
        "### **Acquire the Data**\n",
        "The Python Pandas package facilitates working with datasets. Acquiring the training and testing datasets into Pandas DataFrames is the initial step, followed by combining these datasets to perform operations on both simultaneously."
      ],
      "metadata": {
        "id": "fVGmDJ8eyIYA"
      }
    },
    {
      "cell_type": "code",
      "source": [
        "# import data\n",
        "url = 'https://raw.githubusercontent.com/kofibeans/APM1111-FA8/main/plant_growth.csv'\n",
        "\n",
        "# load the url into pd read_csv() to get the dataframe\n",
        "df = pd.read_csv(url)\n",
        "\n",
        "# display the dataframe\n",
        "df.style"
      ],
      "metadata": {
        "id": "U6gsT1EYyyLQ",
        "colab": {
          "base_uri": "https://localhost:8080/",
          "height": 990
        },
        "outputId": "e7fd1b9d-7c17-4893-90a9-d4b94de2c5ef"
      },
      "execution_count": 189,
      "outputs": [
        {
          "output_type": "display_data",
          "data": {
            "text/plain": [
              "<IPython.core.display.HTML object>"
            ],
            "text/html": [
              "\n",
              "  <style>\n",
              "    pre {\n",
              "        white-space: pre-wrap;\n",
              "    }\n",
              "  </style>\n",
              "  "
            ]
          },
          "metadata": {}
        },
        {
          "output_type": "display_data",
          "data": {
            "text/plain": [
              "<IPython.core.display.HTML object>"
            ],
            "text/html": [
              "\n",
              "  <style>\n",
              "    pre {\n",
              "        white-space: pre-wrap;\n",
              "    }\n",
              "  </style>\n",
              "  "
            ]
          },
          "metadata": {}
        },
        {
          "output_type": "display_data",
          "data": {
            "text/plain": [
              "<IPython.core.display.HTML object>"
            ],
            "text/html": [
              "\n",
              "  <style>\n",
              "    pre {\n",
              "        white-space: pre-wrap;\n",
              "    }\n",
              "  </style>\n",
              "  "
            ]
          },
          "metadata": {}
        },
        {
          "output_type": "display_data",
          "data": {
            "text/plain": [
              "<IPython.core.display.HTML object>"
            ],
            "text/html": [
              "\n",
              "  <style>\n",
              "    pre {\n",
              "        white-space: pre-wrap;\n",
              "    }\n",
              "  </style>\n",
              "  "
            ]
          },
          "metadata": {}
        },
        {
          "output_type": "display_data",
          "data": {
            "text/plain": [
              "<IPython.core.display.HTML object>"
            ],
            "text/html": [
              "\n",
              "  <style>\n",
              "    pre {\n",
              "        white-space: pre-wrap;\n",
              "    }\n",
              "  </style>\n",
              "  "
            ]
          },
          "metadata": {}
        },
        {
          "output_type": "execute_result",
          "data": {
            "text/plain": [
              "<pandas.io.formats.style.Styler at 0x7a57d21dcac0>"
            ],
            "text/html": [
              "<style type=\"text/css\">\n",
              "</style>\n",
              "<table id=\"T_b8992\" class=\"dataframe\">\n",
              "  <thead>\n",
              "    <tr>\n",
              "      <th class=\"blank level0\" >&nbsp;</th>\n",
              "      <th id=\"T_b8992_level0_col0\" class=\"col_heading level0 col0\" >weight</th>\n",
              "      <th id=\"T_b8992_level0_col1\" class=\"col_heading level0 col1\" >group</th>\n",
              "    </tr>\n",
              "  </thead>\n",
              "  <tbody>\n",
              "    <tr>\n",
              "      <th id=\"T_b8992_level0_row0\" class=\"row_heading level0 row0\" >0</th>\n",
              "      <td id=\"T_b8992_row0_col0\" class=\"data row0 col0\" >4.170000</td>\n",
              "      <td id=\"T_b8992_row0_col1\" class=\"data row0 col1\" >ctrl</td>\n",
              "    </tr>\n",
              "    <tr>\n",
              "      <th id=\"T_b8992_level0_row1\" class=\"row_heading level0 row1\" >1</th>\n",
              "      <td id=\"T_b8992_row1_col0\" class=\"data row1 col0\" >5.580000</td>\n",
              "      <td id=\"T_b8992_row1_col1\" class=\"data row1 col1\" >ctrl</td>\n",
              "    </tr>\n",
              "    <tr>\n",
              "      <th id=\"T_b8992_level0_row2\" class=\"row_heading level0 row2\" >2</th>\n",
              "      <td id=\"T_b8992_row2_col0\" class=\"data row2 col0\" >5.180000</td>\n",
              "      <td id=\"T_b8992_row2_col1\" class=\"data row2 col1\" >ctrl</td>\n",
              "    </tr>\n",
              "    <tr>\n",
              "      <th id=\"T_b8992_level0_row3\" class=\"row_heading level0 row3\" >3</th>\n",
              "      <td id=\"T_b8992_row3_col0\" class=\"data row3 col0\" >6.110000</td>\n",
              "      <td id=\"T_b8992_row3_col1\" class=\"data row3 col1\" >ctrl</td>\n",
              "    </tr>\n",
              "    <tr>\n",
              "      <th id=\"T_b8992_level0_row4\" class=\"row_heading level0 row4\" >4</th>\n",
              "      <td id=\"T_b8992_row4_col0\" class=\"data row4 col0\" >4.500000</td>\n",
              "      <td id=\"T_b8992_row4_col1\" class=\"data row4 col1\" >ctrl</td>\n",
              "    </tr>\n",
              "    <tr>\n",
              "      <th id=\"T_b8992_level0_row5\" class=\"row_heading level0 row5\" >5</th>\n",
              "      <td id=\"T_b8992_row5_col0\" class=\"data row5 col0\" >4.610000</td>\n",
              "      <td id=\"T_b8992_row5_col1\" class=\"data row5 col1\" >ctrl</td>\n",
              "    </tr>\n",
              "    <tr>\n",
              "      <th id=\"T_b8992_level0_row6\" class=\"row_heading level0 row6\" >6</th>\n",
              "      <td id=\"T_b8992_row6_col0\" class=\"data row6 col0\" >5.170000</td>\n",
              "      <td id=\"T_b8992_row6_col1\" class=\"data row6 col1\" >ctrl</td>\n",
              "    </tr>\n",
              "    <tr>\n",
              "      <th id=\"T_b8992_level0_row7\" class=\"row_heading level0 row7\" >7</th>\n",
              "      <td id=\"T_b8992_row7_col0\" class=\"data row7 col0\" >4.530000</td>\n",
              "      <td id=\"T_b8992_row7_col1\" class=\"data row7 col1\" >ctrl</td>\n",
              "    </tr>\n",
              "    <tr>\n",
              "      <th id=\"T_b8992_level0_row8\" class=\"row_heading level0 row8\" >8</th>\n",
              "      <td id=\"T_b8992_row8_col0\" class=\"data row8 col0\" >5.330000</td>\n",
              "      <td id=\"T_b8992_row8_col1\" class=\"data row8 col1\" >ctrl</td>\n",
              "    </tr>\n",
              "    <tr>\n",
              "      <th id=\"T_b8992_level0_row9\" class=\"row_heading level0 row9\" >9</th>\n",
              "      <td id=\"T_b8992_row9_col0\" class=\"data row9 col0\" >5.140000</td>\n",
              "      <td id=\"T_b8992_row9_col1\" class=\"data row9 col1\" >ctrl</td>\n",
              "    </tr>\n",
              "    <tr>\n",
              "      <th id=\"T_b8992_level0_row10\" class=\"row_heading level0 row10\" >10</th>\n",
              "      <td id=\"T_b8992_row10_col0\" class=\"data row10 col0\" >4.810000</td>\n",
              "      <td id=\"T_b8992_row10_col1\" class=\"data row10 col1\" >trt1</td>\n",
              "    </tr>\n",
              "    <tr>\n",
              "      <th id=\"T_b8992_level0_row11\" class=\"row_heading level0 row11\" >11</th>\n",
              "      <td id=\"T_b8992_row11_col0\" class=\"data row11 col0\" >4.170000</td>\n",
              "      <td id=\"T_b8992_row11_col1\" class=\"data row11 col1\" >trt1</td>\n",
              "    </tr>\n",
              "    <tr>\n",
              "      <th id=\"T_b8992_level0_row12\" class=\"row_heading level0 row12\" >12</th>\n",
              "      <td id=\"T_b8992_row12_col0\" class=\"data row12 col0\" >4.410000</td>\n",
              "      <td id=\"T_b8992_row12_col1\" class=\"data row12 col1\" >trt1</td>\n",
              "    </tr>\n",
              "    <tr>\n",
              "      <th id=\"T_b8992_level0_row13\" class=\"row_heading level0 row13\" >13</th>\n",
              "      <td id=\"T_b8992_row13_col0\" class=\"data row13 col0\" >3.590000</td>\n",
              "      <td id=\"T_b8992_row13_col1\" class=\"data row13 col1\" >trt1</td>\n",
              "    </tr>\n",
              "    <tr>\n",
              "      <th id=\"T_b8992_level0_row14\" class=\"row_heading level0 row14\" >14</th>\n",
              "      <td id=\"T_b8992_row14_col0\" class=\"data row14 col0\" >5.870000</td>\n",
              "      <td id=\"T_b8992_row14_col1\" class=\"data row14 col1\" >trt1</td>\n",
              "    </tr>\n",
              "    <tr>\n",
              "      <th id=\"T_b8992_level0_row15\" class=\"row_heading level0 row15\" >15</th>\n",
              "      <td id=\"T_b8992_row15_col0\" class=\"data row15 col0\" >3.830000</td>\n",
              "      <td id=\"T_b8992_row15_col1\" class=\"data row15 col1\" >trt1</td>\n",
              "    </tr>\n",
              "    <tr>\n",
              "      <th id=\"T_b8992_level0_row16\" class=\"row_heading level0 row16\" >16</th>\n",
              "      <td id=\"T_b8992_row16_col0\" class=\"data row16 col0\" >6.030000</td>\n",
              "      <td id=\"T_b8992_row16_col1\" class=\"data row16 col1\" >trt1</td>\n",
              "    </tr>\n",
              "    <tr>\n",
              "      <th id=\"T_b8992_level0_row17\" class=\"row_heading level0 row17\" >17</th>\n",
              "      <td id=\"T_b8992_row17_col0\" class=\"data row17 col0\" >4.890000</td>\n",
              "      <td id=\"T_b8992_row17_col1\" class=\"data row17 col1\" >trt1</td>\n",
              "    </tr>\n",
              "    <tr>\n",
              "      <th id=\"T_b8992_level0_row18\" class=\"row_heading level0 row18\" >18</th>\n",
              "      <td id=\"T_b8992_row18_col0\" class=\"data row18 col0\" >4.320000</td>\n",
              "      <td id=\"T_b8992_row18_col1\" class=\"data row18 col1\" >trt1</td>\n",
              "    </tr>\n",
              "    <tr>\n",
              "      <th id=\"T_b8992_level0_row19\" class=\"row_heading level0 row19\" >19</th>\n",
              "      <td id=\"T_b8992_row19_col0\" class=\"data row19 col0\" >4.690000</td>\n",
              "      <td id=\"T_b8992_row19_col1\" class=\"data row19 col1\" >trt1</td>\n",
              "    </tr>\n",
              "    <tr>\n",
              "      <th id=\"T_b8992_level0_row20\" class=\"row_heading level0 row20\" >20</th>\n",
              "      <td id=\"T_b8992_row20_col0\" class=\"data row20 col0\" >6.310000</td>\n",
              "      <td id=\"T_b8992_row20_col1\" class=\"data row20 col1\" >trt2</td>\n",
              "    </tr>\n",
              "    <tr>\n",
              "      <th id=\"T_b8992_level0_row21\" class=\"row_heading level0 row21\" >21</th>\n",
              "      <td id=\"T_b8992_row21_col0\" class=\"data row21 col0\" >5.120000</td>\n",
              "      <td id=\"T_b8992_row21_col1\" class=\"data row21 col1\" >trt2</td>\n",
              "    </tr>\n",
              "    <tr>\n",
              "      <th id=\"T_b8992_level0_row22\" class=\"row_heading level0 row22\" >22</th>\n",
              "      <td id=\"T_b8992_row22_col0\" class=\"data row22 col0\" >5.540000</td>\n",
              "      <td id=\"T_b8992_row22_col1\" class=\"data row22 col1\" >trt2</td>\n",
              "    </tr>\n",
              "    <tr>\n",
              "      <th id=\"T_b8992_level0_row23\" class=\"row_heading level0 row23\" >23</th>\n",
              "      <td id=\"T_b8992_row23_col0\" class=\"data row23 col0\" >5.500000</td>\n",
              "      <td id=\"T_b8992_row23_col1\" class=\"data row23 col1\" >trt2</td>\n",
              "    </tr>\n",
              "    <tr>\n",
              "      <th id=\"T_b8992_level0_row24\" class=\"row_heading level0 row24\" >24</th>\n",
              "      <td id=\"T_b8992_row24_col0\" class=\"data row24 col0\" >5.370000</td>\n",
              "      <td id=\"T_b8992_row24_col1\" class=\"data row24 col1\" >trt2</td>\n",
              "    </tr>\n",
              "    <tr>\n",
              "      <th id=\"T_b8992_level0_row25\" class=\"row_heading level0 row25\" >25</th>\n",
              "      <td id=\"T_b8992_row25_col0\" class=\"data row25 col0\" >5.290000</td>\n",
              "      <td id=\"T_b8992_row25_col1\" class=\"data row25 col1\" >trt2</td>\n",
              "    </tr>\n",
              "    <tr>\n",
              "      <th id=\"T_b8992_level0_row26\" class=\"row_heading level0 row26\" >26</th>\n",
              "      <td id=\"T_b8992_row26_col0\" class=\"data row26 col0\" >4.920000</td>\n",
              "      <td id=\"T_b8992_row26_col1\" class=\"data row26 col1\" >trt2</td>\n",
              "    </tr>\n",
              "    <tr>\n",
              "      <th id=\"T_b8992_level0_row27\" class=\"row_heading level0 row27\" >27</th>\n",
              "      <td id=\"T_b8992_row27_col0\" class=\"data row27 col0\" >6.150000</td>\n",
              "      <td id=\"T_b8992_row27_col1\" class=\"data row27 col1\" >trt2</td>\n",
              "    </tr>\n",
              "    <tr>\n",
              "      <th id=\"T_b8992_level0_row28\" class=\"row_heading level0 row28\" >28</th>\n",
              "      <td id=\"T_b8992_row28_col0\" class=\"data row28 col0\" >5.800000</td>\n",
              "      <td id=\"T_b8992_row28_col1\" class=\"data row28 col1\" >trt2</td>\n",
              "    </tr>\n",
              "    <tr>\n",
              "      <th id=\"T_b8992_level0_row29\" class=\"row_heading level0 row29\" >29</th>\n",
              "      <td id=\"T_b8992_row29_col0\" class=\"data row29 col0\" >5.260000</td>\n",
              "      <td id=\"T_b8992_row29_col1\" class=\"data row29 col1\" >trt2</td>\n",
              "    </tr>\n",
              "  </tbody>\n",
              "</table>\n"
            ]
          },
          "metadata": {},
          "execution_count": 189
        }
      ]
    },
    {
      "cell_type": "markdown",
      "source": [
        "### **Check Assumptions**\n",
        "The assumptions based on the data analysis done so far need to be validated further before taking appropriate actions."
      ],
      "metadata": {
        "id": "r-Gs_giZ2qdj"
      }
    },
    {
      "cell_type": "markdown",
      "source": [
        "**Assumption 1:** You have one dependent variable that is measured at the continuous level.\n",
        "\n",
        "> ***Remark.*** The dependent variable was called `weight` and is a continuous level.\n",
        "\n",
        "**Assumption 2:** You have one independent variable that consists of two categorical, independent\n",
        "groups.\n",
        "\n",
        "> ***Remark.*** The independent variable is the `plant condition` which is categorized into independent groups: two distinct treatment conditions and a control condition.\n",
        "\n",
        "**Assumption 3:** You should have independence of observations.\n",
        "\n",
        "> ***Remark.*** Each observation is independent with each other as there is no relationship between the observations in each group of the independent variable or between the groups themselves."
      ],
      "metadata": {
        "id": "IrbdP6pJRsFE"
      }
    },
    {
      "cell_type": "markdown",
      "source": [
        "**Assumption 4:** There should be no significant outliers in the three or more groups of your independent variable in terms of the dependent variable."
      ],
      "metadata": {
        "id": "vRZ1lSDzUWhl"
      }
    },
    {
      "cell_type": "code",
      "source": [
        "from plotnine import ggplot, aes, geom_boxplot, labs, theme_classic\n",
        "\n",
        "(\n",
        "  ggplot(df)\n",
        "  + aes(x = \"group\", y=\"weight\", fill = \"group\")\n",
        "  + geom_boxplot()\n",
        "  + labs(title = \"Boxplot\")\n",
        "  + theme_classic()\n",
        ")"
      ],
      "metadata": {
        "colab": {
          "base_uri": "https://localhost:8080/",
          "height": 515
        },
        "id": "tMzDNufRhzuk",
        "outputId": "eb2bb630-b722-4532-bd58-34fe95a7f073"
      },
      "execution_count": 190,
      "outputs": [
        {
          "output_type": "display_data",
          "data": {
            "text/plain": [
              "<IPython.core.display.HTML object>"
            ],
            "text/html": [
              "\n",
              "  <style>\n",
              "    pre {\n",
              "        white-space: pre-wrap;\n",
              "    }\n",
              "  </style>\n",
              "  "
            ]
          },
          "metadata": {}
        },
        {
          "output_type": "display_data",
          "data": {
            "text/plain": [
              "<IPython.core.display.HTML object>"
            ],
            "text/html": [
              "\n",
              "  <style>\n",
              "    pre {\n",
              "        white-space: pre-wrap;\n",
              "    }\n",
              "  </style>\n",
              "  "
            ]
          },
          "metadata": {}
        },
        {
          "output_type": "display_data",
          "data": {
            "text/plain": [
              "<IPython.core.display.HTML object>"
            ],
            "text/html": [
              "\n",
              "  <style>\n",
              "    pre {\n",
              "        white-space: pre-wrap;\n",
              "    }\n",
              "  </style>\n",
              "  "
            ]
          },
          "metadata": {}
        },
        {
          "output_type": "display_data",
          "data": {
            "text/plain": [
              "<IPython.core.display.HTML object>"
            ],
            "text/html": [
              "\n",
              "  <style>\n",
              "    pre {\n",
              "        white-space: pre-wrap;\n",
              "    }\n",
              "  </style>\n",
              "  "
            ]
          },
          "metadata": {}
        },
        {
          "output_type": "display_data",
          "data": {
            "text/plain": [
              "<IPython.core.display.HTML object>"
            ],
            "text/html": [
              "\n",
              "  <style>\n",
              "    pre {\n",
              "        white-space: pre-wrap;\n",
              "    }\n",
              "  </style>\n",
              "  "
            ]
          },
          "metadata": {}
        },
        {
          "output_type": "display_data",
          "data": {
            "text/plain": [
              "<Figure size 640x480 with 1 Axes>"
            ],
            "image/png": "[encoded data removed]"
          },
          "metadata": {
            "image/png": {
              "width": 640,
              "height": 480
            }
          }
        },
        {
          "output_type": "execute_result",
          "data": {
            "text/plain": [
              "<Figure Size: (640 x 480)>"
            ]
          },
          "metadata": {},
          "execution_count": 190
        }
      ]
    },
    {
      "cell_type": "markdown",
      "source": [
        "\n",
        "> ***Remark.*** There were no significant outliers in the treatment/condition groups in terms of the weight, as assessed by visual inspection of boxplots."
      ],
      "metadata": {
        "id": "TU27jQhoUZK8"
      }
    },
    {
      "cell_type": "markdown",
      "source": [
        "**Finding the Outlier using z-score.**\n",
        "\n",
        "To identify outliers using the z-score, we can set a threshold value by 1.5 or 3. Data points with a z-score greater than 1.5 or less than -1.5 can be considered an outlier. Whereas any data point with a z-score greater than 3 or less than -3 can be considered an *extreme* outlier."
      ],
      "metadata": {
        "id": "DMBcg9GkmJbk"
      }
    },
    {
      "cell_type": "code",
      "source": [
        "# calculate z-scores for each group\n",
        "df['z_score'] = df.groupby('group')['weight'].transform(lambda x: (x - x.mean()) / x.std())\n",
        "\n",
        "# identify outliers based on z-score threshold\n",
        "outliers = df[abs(df['z_score']) > 1.5]\n",
        "\n",
        "# identify outliers based on z-score threshold\n",
        "e_outliers = df[abs(df['z_score']) > 3]\n",
        "\n",
        "# display the outliers\n",
        "print(\"The following data points are considered as outliers:\")\n",
        "print(outliers)\n",
        "\n",
        "print(\"\\nThe following data points are considered as extreme outliers:\")\n",
        "print(e_outliers)"
      ],
      "metadata": {
        "colab": {
          "base_uri": "https://localhost:8080/",
          "height": 217
        },
        "id": "oSD0CmzAx09Q",
        "outputId": "9ba4e434-ef03-4f4a-d431-86472fb45d2a"
      },
      "execution_count": 191,
      "outputs": [
        {
          "output_type": "display_data",
          "data": {
            "text/plain": [
              "<IPython.core.display.HTML object>"
            ],
            "text/html": [
              "\n",
              "  <style>\n",
              "    pre {\n",
              "        white-space: pre-wrap;\n",
              "    }\n",
              "  </style>\n",
              "  "
            ]
          },
          "metadata": {}
        },
        {
          "output_type": "display_data",
          "data": {
            "text/plain": [
              "<IPython.core.display.HTML object>"
            ],
            "text/html": [
              "\n",
              "  <style>\n",
              "    pre {\n",
              "        white-space: pre-wrap;\n",
              "    }\n",
              "  </style>\n",
              "  "
            ]
          },
          "metadata": {}
        },
        {
          "output_type": "display_data",
          "data": {
            "text/plain": [
              "<IPython.core.display.HTML object>"
            ],
            "text/html": [
              "\n",
              "  <style>\n",
              "    pre {\n",
              "        white-space: pre-wrap;\n",
              "    }\n",
              "  </style>\n",
              "  "
            ]
          },
          "metadata": {}
        },
        {
          "output_type": "display_data",
          "data": {
            "text/plain": [
              "<IPython.core.display.HTML object>"
            ],
            "text/html": [
              "\n",
              "  <style>\n",
              "    pre {\n",
              "        white-space: pre-wrap;\n",
              "    }\n",
              "  </style>\n",
              "  "
            ]
          },
          "metadata": {}
        },
        {
          "output_type": "display_data",
          "data": {
            "text/plain": [
              "<IPython.core.display.HTML object>"
            ],
            "text/html": [
              "\n",
              "  <style>\n",
              "    pre {\n",
              "        white-space: pre-wrap;\n",
              "    }\n",
              "  </style>\n",
              "  "
            ]
          },
          "metadata": {}
        },
        {
          "output_type": "stream",
          "name": "stdout",
          "text": [
            "The following data points are considered as outliers:\n",
            "    weight group   z_score\n",
            "3     6.11  ctrl  1.848767\n",
            "14    5.87  trt1  1.523292\n",
            "16    6.03  trt1  1.724886\n",
            "20    6.31  trt2  1.771458\n",
            "\n",
            "The following data points are considered as extreme outliers:\n",
            "Empty DataFrame\n",
            "Columns: [weight, group, z_score]\n",
            "Index: []\n"
          ]
        }
      ]
    },
    {
      "cell_type": "markdown",
      "source": [
        "\n",
        "> ***Remark.*** There were no extreme outliers."
      ],
      "metadata": {
        "id": "3PP290D5u6Xt"
      }
    },
    {
      "cell_type": "markdown",
      "source": [
        "**Assumption 5:** Your dependent variable should be approximately normally distributed for each group of the independent variable."
      ],
      "metadata": {
        "id": "rZ9Zimcc1652"
      }
    },
    {
      "cell_type": "code",
      "source": [
        "df.groupby('group')['weight'].describe()"
      ],
      "metadata": {
        "colab": {
          "base_uri": "https://localhost:8080/",
          "height": 175
        },
        "id": "UauazPsA2FfI",
        "outputId": "122e1b55-4b76-41f2-c473-60cb7444f865"
      },
      "execution_count": 192,
      "outputs": [
        {
          "output_type": "display_data",
          "data": {
            "text/plain": [
              "<IPython.core.display.HTML object>"
            ],
            "text/html": [
              "\n",
              "  <style>\n",
              "    pre {\n",
              "        white-space: pre-wrap;\n",
              "    }\n",
              "  </style>\n",
              "  "
            ]
          },
          "metadata": {}
        },
        {
          "output_type": "display_data",
          "data": {
            "text/plain": [
              "<IPython.core.display.HTML object>"
            ],
            "text/html": [
              "\n",
              "  <style>\n",
              "    pre {\n",
              "        white-space: pre-wrap;\n",
              "    }\n",
              "  </style>\n",
              "  "
            ]
          },
          "metadata": {}
        },
        {
          "output_type": "display_data",
          "data": {
            "text/plain": [
              "<IPython.core.display.HTML object>"
            ],
            "text/html": [
              "\n",
              "  <style>\n",
              "    pre {\n",
              "        white-space: pre-wrap;\n",
              "    }\n",
              "  </style>\n",
              "  "
            ]
          },
          "metadata": {}
        },
        {
          "output_type": "display_data",
          "data": {
            "text/plain": [
              "<IPython.core.display.HTML object>"
            ],
            "text/html": [
              "\n",
              "  <style>\n",
              "    pre {\n",
              "        white-space: pre-wrap;\n",
              "    }\n",
              "  </style>\n",
              "  "
            ]
          },
          "metadata": {}
        },
        {
          "output_type": "display_data",
          "data": {
            "text/plain": [
              "<IPython.core.display.HTML object>"
            ],
            "text/html": [
              "\n",
              "  <style>\n",
              "    pre {\n",
              "        white-space: pre-wrap;\n",
              "    }\n",
              "  </style>\n",
              "  "
            ]
          },
          "metadata": {}
        },
        {
          "output_type": "execute_result",
          "data": {
            "text/plain": [
              "       count   mean       std   min     25%    50%     75%   max\n",
              "group                                                           \n",
              "ctrl    10.0  5.032  0.583091  4.17  4.5500  5.155  5.2925  6.11\n",
              "trt1    10.0  4.661  0.793676  3.59  4.2075  4.550  4.8700  6.03\n",
              "trt2    10.0  5.526  0.442573  4.92  5.2675  5.435  5.7350  6.31"
            ],
            "text/html": [
              "\n",
              "  <div id=\"df-8702c5b2-d9f9-4f38-8fc9-eeff66da1183\" class=\"colab-df-container\">\n",
              "    <div>\n",
              "<style scoped>\n",
              "    .dataframe tbody tr th:only-of-type {\n",
              "        vertical-align: middle;\n",
              "    }\n",
              "\n",
              "    .dataframe tbody tr th {\n",
              "        vertical-align: top;\n",
              "    }\n",
              "\n",
              "    .dataframe thead th {\n",
              "        text-align: right;\n",
              "    }\n",
              "</style>\n",
              "<table border=\"1\" class=\"dataframe\">\n",
              "  <thead>\n",
              "    <tr style=\"text-align: right;\">\n",
              "      <th></th>\n",
              "      <th>count</th>\n",
              "      <th>mean</th>\n",
              "      <th>std</th>\n",
              "      <th>min</th>\n",
              "      <th>25%</th>\n",
              "      <th>50%</th>\n",
              "      <th>75%</th>\n",
              "      <th>max</th>\n",
              "    </tr>\n",
              "    <tr>\n",
              "      <th>group</th>\n",
              "      <th></th>\n",
              "      <th></th>\n",
              "      <th></th>\n",
              "      <th></th>\n",
              "      <th></th>\n",
              "      <th></th>\n",
              "      <th></th>\n",
              "      <th></th>\n",
              "    </tr>\n",
              "  </thead>\n",
              "  <tbody>\n",
              "    <tr>\n",
              "      <th>ctrl</th>\n",
              "      <td>10.0</td>\n",
              "      <td>5.032</td>\n",
              "      <td>0.583091</td>\n",
              "      <td>4.17</td>\n",
              "      <td>4.5500</td>\n",
              "      <td>5.155</td>\n",
              "      <td>5.2925</td>\n",
              "      <td>6.11</td>\n",
              "    </tr>\n",
              "    <tr>\n",
              "      <th>trt1</th>\n",
              "      <td>10.0</td>\n",
              "      <td>4.661</td>\n",
              "      <td>0.793676</td>\n",
              "      <td>3.59</td>\n",
              "      <td>4.2075</td>\n",
              "      <td>4.550</td>\n",
              "      <td>4.8700</td>\n",
              "      <td>6.03</td>\n",
              "    </tr>\n",
              "    <tr>\n",
              "      <th>trt2</th>\n",
              "      <td>10.0</td>\n",
              "      <td>5.526</td>\n",
              "      <td>0.442573</td>\n",
              "      <td>4.92</td>\n",
              "      <td>5.2675</td>\n",
              "      <td>5.435</td>\n",
              "      <td>5.7350</td>\n",
              "      <td>6.31</td>\n",
              "    </tr>\n",
              "  </tbody>\n",
              "</table>\n",
              "</div>\n",
              "    <div class=\"colab-df-buttons\">\n",
              "\n",
              "  <div class=\"colab-df-container\">\n",
              "    <button class=\"colab-df-convert\" onclick=\"convertToInteractive('df-8702c5b2-d9f9-4f38-8fc9-eeff66da1183')\"\n",
              "            title=\"Convert this dataframe to an interactive table.\"\n",
              "            style=\"display:none;\">\n",
              "\n",
              "  <svg xmlns=\"http://www.w3.org/2000/svg\" height=\"24px\" viewBox=\"0 -960 960 960\">\n",
              "    <path d=\"M120-120v-720h720v720H120Zm60-500h600v-160H180v160Zm220 220h160v-160H400v160Zm0 220h160v-160H400v160ZM180-400h160v-160H180v160Zm440 0h160v-160H620v160ZM180-180h160v-160H180v160Zm440 0h160v-160H620v160Z\"/>\n",
              "  </svg>\n",
              "    </button>\n",
              "\n",
              "  <style>\n",
              "    .colab-df-container {\n",
              "      display:flex;\n",
              "      gap: 12px;\n",
              "    }\n",
              "\n",
              "    .colab-df-convert {\n",
              "      background-color: #E8F0FE;\n",
              "      border: none;\n",
              "      border-radius: 50%;\n",
              "      cursor: pointer;\n",
              "      display: none;\n",
              "      fill: #1967D2;\n",
              "      height: 32px;\n",
              "      padding: 0 0 0 0;\n",
              "      width: 32px;\n",
              "    }\n",
              "\n",
              "    .colab-df-convert:hover {\n",
              "      background-color: #E2EBFA;\n",
              "      box-shadow: 0px 1px 2px rgba(60, 64, 67, 0.3), 0px 1px 3px 1px rgba(60, 64, 67, 0.15);\n",
              "      fill: #174EA6;\n",
              "    }\n",
              "\n",
              "    .colab-df-buttons div {\n",
              "      margin-bottom: 4px;\n",
              "    }\n",
              "\n",
              "    [theme=dark] .colab-df-convert {\n",
              "      background-color: #3B4455;\n",
              "      fill: #D2E3FC;\n",
              "    }\n",
              "\n",
              "    [theme=dark] .colab-df-convert:hover {\n",
              "      background-color: #434B5C;\n",
              "      box-shadow: 0px 1px 3px 1px rgba(0, 0, 0, 0.15);\n",
              "      filter: drop-shadow(0px 1px 2px rgba(0, 0, 0, 0.3));\n",
              "      fill: #FFFFFF;\n",
              "    }\n",
              "  </style>\n",
              "\n",
              "    <script>\n",
              "      const buttonEl =\n",
              "        document.querySelector('#df-8702c5b2-d9f9-4f38-8fc9-eeff66da1183 button.colab-df-convert');\n",
              "      buttonEl.style.display =\n",
              "        google.colab.kernel.accessAllowed ? 'block' : 'none';\n",
              "\n",
              "      async function convertToInteractive(key) {\n",
              "        const element = document.querySelector('#df-8702c5b2-d9f9-4f38-8fc9-eeff66da1183');\n",
              "        const dataTable =\n",
              "          await google.colab.kernel.invokeFunction('convertToInteractive',\n",
              "                                                    [key], {});\n",
              "        if (!dataTable) return;\n",
              "\n",
              "        const docLinkHtml = 'Like what you see? Visit the ' +\n",
              "          '<a target=\"_blank\" href=https://colab.research.google.com/notebooks/data_table.ipynb>data table notebook</a>'\n",
              "          + ' to learn more about interactive tables.';\n",
              "        element.innerHTML = '';\n",
              "        dataTable['output_type'] = 'display_data';\n",
              "        await google.colab.output.renderOutput(dataTable, element);\n",
              "        const docLink = document.createElement('div');\n",
              "        docLink.innerHTML = docLinkHtml;\n",
              "        element.appendChild(docLink);\n",
              "      }\n",
              "    </script>\n",
              "  </div>\n",
              "\n",
              "\n",
              "<div id=\"df-0a8af2fd-25e7-4a26-adcb-dc2b95edb1f5\">\n",
              "  <button class=\"colab-df-quickchart\" onclick=\"quickchart('df-0a8af2fd-25e7-4a26-adcb-dc2b95edb1f5')\"\n",
              "            title=\"Suggest charts\"\n",
              "            style=\"display:none;\">\n",
              "\n",
              "<svg xmlns=\"http://www.w3.org/2000/svg\" height=\"24px\"viewBox=\"0 0 24 24\"\n",
              "     width=\"24px\">\n",
              "    <g>\n",
              "        <path d=\"M19 3H5c-1.1 0-2 .9-2 2v14c0 1.1.9 2 2 2h14c1.1 0 2-.9 2-2V5c0-1.1-.9-2-2-2zM9 17H7v-7h2v7zm4 0h-2V7h2v10zm4 0h-2v-4h2v4z\"/>\n",
              "    </g>\n",
              "</svg>\n",
              "  </button>\n",
              "\n",
              "<style>\n",
              "  .colab-df-quickchart {\n",
              "      --bg-color: #E8F0FE;\n",
              "      --fill-color: #1967D2;\n",
              "      --hover-bg-color: #E2EBFA;\n",
              "      --hover-fill-color: #174EA6;\n",
              "      --disabled-fill-color: #AAA;\n",
              "      --disabled-bg-color: #DDD;\n",
              "  }\n",
              "\n",
              "  [theme=dark] .colab-df-quickchart {\n",
              "      --bg-color: #3B4455;\n",
              "      --fill-color: #D2E3FC;\n",
              "      --hover-bg-color: #434B5C;\n",
              "      --hover-fill-color: #FFFFFF;\n",
              "      --disabled-bg-color: #3B4455;\n",
              "      --disabled-fill-color: #666;\n",
              "  }\n",
              "\n",
              "  .colab-df-quickchart {\n",
              "    background-color: var(--bg-color);\n",
              "    border: none;\n",
              "    border-radius: 50%;\n",
              "    cursor: pointer;\n",
              "    display: none;\n",
              "    fill: var(--fill-color);\n",
              "    height: 32px;\n",
              "    padding: 0;\n",
              "    width: 32px;\n",
              "  }\n",
              "\n",
              "  .colab-df-quickchart:hover {\n",
              "    background-color: var(--hover-bg-color);\n",
              "    box-shadow: 0 1px 2px rgba(60, 64, 67, 0.3), 0 1px 3px 1px rgba(60, 64, 67, 0.15);\n",
              "    fill: var(--button-hover-fill-color);\n",
              "  }\n",
              "\n",
              "  .colab-df-quickchart-complete:disabled,\n",
              "  .colab-df-quickchart-complete:disabled:hover {\n",
              "    background-color: var(--disabled-bg-color);\n",
              "    fill: var(--disabled-fill-color);\n",
              "    box-shadow: none;\n",
              "  }\n",
              "\n",
              "  .colab-df-spinner {\n",
              "    border: 2px solid var(--fill-color);\n",
              "    border-color: transparent;\n",
              "    border-bottom-color: var(--fill-color);\n",
              "    animation:\n",
              "      spin 1s steps(1) infinite;\n",
              "  }\n",
              "\n",
              "  @keyframes spin {\n",
              "    0% {\n",
              "      border-color: transparent;\n",
              "      border-bottom-color: var(--fill-color);\n",
              "      border-left-color: var(--fill-color);\n",
              "    }\n",
              "    20% {\n",
              "      border-color: transparent;\n",
              "      border-left-color: var(--fill-color);\n",
              "      border-top-color: var(--fill-color);\n",
              "    }\n",
              "    30% {\n",
              "      border-color: transparent;\n",
              "      border-left-color: var(--fill-color);\n",
              "      border-top-color: var(--fill-color);\n",
              "      border-right-color: var(--fill-color);\n",
              "    }\n",
              "    40% {\n",
              "      border-color: transparent;\n",
              "      border-right-color: var(--fill-color);\n",
              "      border-top-color: var(--fill-color);\n",
              "    }\n",
              "    60% {\n",
              "      border-color: transparent;\n",
              "      border-right-color: var(--fill-color);\n",
              "    }\n",
              "    80% {\n",
              "      border-color: transparent;\n",
              "      border-right-color: var(--fill-color);\n",
              "      border-bottom-color: var(--fill-color);\n",
              "    }\n",
              "    90% {\n",
              "      border-color: transparent;\n",
              "      border-bottom-color: var(--fill-color);\n",
              "    }\n",
              "  }\n",
              "</style>\n",
              "\n",
              "  <script>\n",
              "    async function quickchart(key) {\n",
              "      const quickchartButtonEl =\n",
              "        document.querySelector('#' + key + ' button');\n",
              "      quickchartButtonEl.disabled = true;  // To prevent multiple clicks.\n",
              "      quickchartButtonEl.classList.add('colab-df-spinner');\n",
              "      try {\n",
              "        const charts = await google.colab.kernel.invokeFunction(\n",
              "            'suggestCharts', [key], {});\n",
              "      } catch (error) {\n",
              "        console.error('Error during call to suggestCharts:', error);\n",
              "      }\n",
              "      quickchartButtonEl.classList.remove('colab-df-spinner');\n",
              "      quickchartButtonEl.classList.add('colab-df-quickchart-complete');\n",
              "    }\n",
              "    (() => {\n",
              "      let quickchartButtonEl =\n",
              "        document.querySelector('#df-0a8af2fd-25e7-4a26-adcb-dc2b95edb1f5 button');\n",
              "      quickchartButtonEl.style.display =\n",
              "        google.colab.kernel.accessAllowed ? 'block' : 'none';\n",
              "    })();\n",
              "  </script>\n",
              "</div>\n",
              "    </div>\n",
              "  </div>\n"
            ]
          },
          "metadata": {},
          "execution_count": 192
        }
      ]
    },
    {
      "cell_type": "code",
      "source": [
        "import scipy.stats as stats\n",
        "\n",
        "# checking the normality assumption for each group using Shapiro-Wilk test\n",
        "group_0 = df[df['group'] == 'ctrl']['weight']\n",
        "group_1 = df[df['group'] == 'trt1']['weight']\n",
        "group_2 = df[df['group'] == 'trt2']['weight']\n",
        "\n",
        "shapiro_0 = stats.shapiro(group_0)\n",
        "shapiro_1 = stats.shapiro(group_1)\n",
        "shapiro_2 = stats.shapiro(group_2)\n",
        "\n",
        "# creating a table for the Shapiro-Wilk test results\n",
        "results = pd.DataFrame({'Group': ['Control', 'Treatment 1', 'Treatment_2'],\n",
        "                        'W-statistic': [shapiro_0.statistic, shapiro_1.statistic, shapiro_2.statistic],\n",
        "                       'p-value': [shapiro_0.pvalue, shapiro_1.pvalue, shapiro_2.pvalue]})\n",
        "\n",
        "print(\"\\nTest of Normality (Shapiro-Wilk)\")\n",
        "results.style"
      ],
      "metadata": {
        "colab": {
          "base_uri": "https://localhost:8080/",
          "height": 180
        },
        "id": "Q4UeAq1h40A_",
        "outputId": "0f6729ee-b86a-4ded-bc8c-c3e2188cb8ed"
      },
      "execution_count": 193,
      "outputs": [
        {
          "output_type": "display_data",
          "data": {
            "text/plain": [
              "<IPython.core.display.HTML object>"
            ],
            "text/html": [
              "\n",
              "  <style>\n",
              "    pre {\n",
              "        white-space: pre-wrap;\n",
              "    }\n",
              "  </style>\n",
              "  "
            ]
          },
          "metadata": {}
        },
        {
          "output_type": "display_data",
          "data": {
            "text/plain": [
              "<IPython.core.display.HTML object>"
            ],
            "text/html": [
              "\n",
              "  <style>\n",
              "    pre {\n",
              "        white-space: pre-wrap;\n",
              "    }\n",
              "  </style>\n",
              "  "
            ]
          },
          "metadata": {}
        },
        {
          "output_type": "display_data",
          "data": {
            "text/plain": [
              "<IPython.core.display.HTML object>"
            ],
            "text/html": [
              "\n",
              "  <style>\n",
              "    pre {\n",
              "        white-space: pre-wrap;\n",
              "    }\n",
              "  </style>\n",
              "  "
            ]
          },
          "metadata": {}
        },
        {
          "output_type": "display_data",
          "data": {
            "text/plain": [
              "<IPython.core.display.HTML object>"
            ],
            "text/html": [
              "\n",
              "  <style>\n",
              "    pre {\n",
              "        white-space: pre-wrap;\n",
              "    }\n",
              "  </style>\n",
              "  "
            ]
          },
          "metadata": {}
        },
        {
          "output_type": "display_data",
          "data": {
            "text/plain": [
              "<IPython.core.display.HTML object>"
            ],
            "text/html": [
              "\n",
              "  <style>\n",
              "    pre {\n",
              "        white-space: pre-wrap;\n",
              "    }\n",
              "  </style>\n",
              "  "
            ]
          },
          "metadata": {}
        },
        {
          "output_type": "stream",
          "name": "stdout",
          "text": [
            "\n",
            "Test of Normality (Shapiro-Wilk)\n"
          ]
        },
        {
          "output_type": "execute_result",
          "data": {
            "text/plain": [
              "<pandas.io.formats.style.Styler at 0x7a57d20733d0>"
            ],
            "text/html": [
              "<style type=\"text/css\">\n",
              "</style>\n",
              "<table id=\"T_1c45c\" class=\"dataframe\">\n",
              "  <thead>\n",
              "    <tr>\n",
              "      <th class=\"blank level0\" >&nbsp;</th>\n",
              "      <th id=\"T_1c45c_level0_col0\" class=\"col_heading level0 col0\" >Group</th>\n",
              "      <th id=\"T_1c45c_level0_col1\" class=\"col_heading level0 col1\" >W-statistic</th>\n",
              "      <th id=\"T_1c45c_level0_col2\" class=\"col_heading level0 col2\" >p-value</th>\n",
              "    </tr>\n",
              "  </thead>\n",
              "  <tbody>\n",
              "    <tr>\n",
              "      <th id=\"T_1c45c_level0_row0\" class=\"row_heading level0 row0\" >0</th>\n",
              "      <td id=\"T_1c45c_row0_col0\" class=\"data row0 col0\" >Control</td>\n",
              "      <td id=\"T_1c45c_row0_col1\" class=\"data row0 col1\" >0.956682</td>\n",
              "      <td id=\"T_1c45c_row0_col2\" class=\"data row0 col2\" >0.747474</td>\n",
              "    </tr>\n",
              "    <tr>\n",
              "      <th id=\"T_1c45c_level0_row1\" class=\"row_heading level0 row1\" >1</th>\n",
              "      <td id=\"T_1c45c_row1_col0\" class=\"data row1 col0\" >Treatment 1</td>\n",
              "      <td id=\"T_1c45c_row1_col1\" class=\"data row1 col1\" >0.930411</td>\n",
              "      <td id=\"T_1c45c_row1_col2\" class=\"data row1 col2\" >0.451946</td>\n",
              "    </tr>\n",
              "    <tr>\n",
              "      <th id=\"T_1c45c_level0_row2\" class=\"row_heading level0 row2\" >2</th>\n",
              "      <td id=\"T_1c45c_row2_col0\" class=\"data row2 col0\" >Treatment_2</td>\n",
              "      <td id=\"T_1c45c_row2_col1\" class=\"data row2 col1\" >0.941005</td>\n",
              "      <td id=\"T_1c45c_row2_col2\" class=\"data row2 col2\" >0.564253</td>\n",
              "    </tr>\n",
              "  </tbody>\n",
              "</table>\n"
            ]
          },
          "metadata": {},
          "execution_count": 193
        }
      ]
    },
    {
      "cell_type": "markdown",
      "source": [
        "\n",
        "> ***Remark.*** The weight is approximately normally distributed for each of the treatment groups, as assessed by Shapiro-Wilk’s test, p > 0.05."
      ],
      "metadata": {
        "id": "eSUOrP-o8HqX"
      }
    },
    {
      "cell_type": "markdown",
      "source": [
        "**Assumption 6:** You have homogeneity of variances (i.e., the variance of the dependent variable is equal in each group of your independent variable)."
      ],
      "metadata": {
        "id": "TkS65Lya8yTn"
      }
    },
    {
      "cell_type": "code",
      "source": [
        "# perform brown-forsythe test\n",
        "bf_results = stats.levene(group_0, group_1, group_2, center='median')\n",
        "\n",
        "# create a dictionary with the results\n",
        "results = {\n",
        "    'F': bf_results.statistic,\n",
        "    'df1': [3 - 1],\n",
        "    'df2': [len(group_0) + len(group_1) + len(group_2) - 2],\n",
        "    'p': bf_results.pvalue\n",
        "}\n",
        "\n",
        "# create a dataframe with the results\n",
        "results_f = pd.DataFrame(results)\n",
        "\n",
        "# print and style the dataframe\n",
        "print(\"\\n Test of Equality of Variances (Brown-Forsythe)\")\n",
        "results_f.style.format(\"{:,.2f}\")"
      ],
      "metadata": {
        "colab": {
          "base_uri": "https://localhost:8080/",
          "height": 117
        },
        "id": "vA2o94tl88gp",
        "outputId": "c7d92e5f-db52-4089-d211-b6d4f9d7dbe9"
      },
      "execution_count": 194,
      "outputs": [
        {
          "output_type": "display_data",
          "data": {
            "text/plain": [
              "<IPython.core.display.HTML object>"
            ],
            "text/html": [
              "\n",
              "  <style>\n",
              "    pre {\n",
              "        white-space: pre-wrap;\n",
              "    }\n",
              "  </style>\n",
              "  "
            ]
          },
          "metadata": {}
        },
        {
          "output_type": "display_data",
          "data": {
            "text/plain": [
              "<IPython.core.display.HTML object>"
            ],
            "text/html": [
              "\n",
              "  <style>\n",
              "    pre {\n",
              "        white-space: pre-wrap;\n",
              "    }\n",
              "  </style>\n",
              "  "
            ]
          },
          "metadata": {}
        },
        {
          "output_type": "display_data",
          "data": {
            "text/plain": [
              "<IPython.core.display.HTML object>"
            ],
            "text/html": [
              "\n",
              "  <style>\n",
              "    pre {\n",
              "        white-space: pre-wrap;\n",
              "    }\n",
              "  </style>\n",
              "  "
            ]
          },
          "metadata": {}
        },
        {
          "output_type": "display_data",
          "data": {
            "text/plain": [
              "<IPython.core.display.HTML object>"
            ],
            "text/html": [
              "\n",
              "  <style>\n",
              "    pre {\n",
              "        white-space: pre-wrap;\n",
              "    }\n",
              "  </style>\n",
              "  "
            ]
          },
          "metadata": {}
        },
        {
          "output_type": "display_data",
          "data": {
            "text/plain": [
              "<IPython.core.display.HTML object>"
            ],
            "text/html": [
              "\n",
              "  <style>\n",
              "    pre {\n",
              "        white-space: pre-wrap;\n",
              "    }\n",
              "  </style>\n",
              "  "
            ]
          },
          "metadata": {}
        },
        {
          "output_type": "stream",
          "name": "stdout",
          "text": [
            "\n",
            " Test of Equality of Variances (Brown-Forsythe)\n"
          ]
        },
        {
          "output_type": "execute_result",
          "data": {
            "text/plain": [
              "<pandas.io.formats.style.Styler at 0x7a57d2070130>"
            ],
            "text/html": [
              "<style type=\"text/css\">\n",
              "</style>\n",
              "<table id=\"T_24444\" class=\"dataframe\">\n",
              "  <thead>\n",
              "    <tr>\n",
              "      <th class=\"blank level0\" >&nbsp;</th>\n",
              "      <th id=\"T_24444_level0_col0\" class=\"col_heading level0 col0\" >F</th>\n",
              "      <th id=\"T_24444_level0_col1\" class=\"col_heading level0 col1\" >df1</th>\n",
              "      <th id=\"T_24444_level0_col2\" class=\"col_heading level0 col2\" >df2</th>\n",
              "      <th id=\"T_24444_level0_col3\" class=\"col_heading level0 col3\" >p</th>\n",
              "    </tr>\n",
              "  </thead>\n",
              "  <tbody>\n",
              "    <tr>\n",
              "      <th id=\"T_24444_level0_row0\" class=\"row_heading level0 row0\" >0</th>\n",
              "      <td id=\"T_24444_row0_col0\" class=\"data row0 col0\" >1.12</td>\n",
              "      <td id=\"T_24444_row0_col1\" class=\"data row0 col1\" >2.00</td>\n",
              "      <td id=\"T_24444_row0_col2\" class=\"data row0 col2\" >28.00</td>\n",
              "      <td id=\"T_24444_row0_col3\" class=\"data row0 col3\" >0.34</td>\n",
              "    </tr>\n",
              "  </tbody>\n",
              "</table>\n"
            ]
          },
          "metadata": {},
          "execution_count": 194
        }
      ]
    },
    {
      "cell_type": "markdown",
      "source": [
        "> ***Remark.*** There was homogeneity of variances of the dependent variable for all treatment groups, as assessed by Levene’s test of homogeneity of variances, p = 0.34."
      ],
      "metadata": {
        "id": "5vA3pBAD-DV6"
      }
    },
    {
      "cell_type": "markdown",
      "source": [
        "### **Computation**\n",
        "A significant one-way ANOVA is generally followed up by Tukey post-hoc tests to perform multiple pairwise comparisons between groups."
      ],
      "metadata": {
        "id": "MLBoU5jc2Czb"
      }
    },
    {
      "cell_type": "code",
      "source": [
        "import statsmodels.api as sm\n",
        "from statsmodels.formula.api import ols\n",
        "\n",
        "def anova_table(aov):\n",
        "    aov['mean_sq'] = aov[:]['sum_sq']/aov[:]['df']\n",
        "    aov['p_eta_sq'] = aov[:-1]['sum_sq']/sum(aov['sum_sq'])\n",
        "\n",
        "    cols = ['sum_sq', 'df', 'mean_sq', 'F', 'PR(>F)', 'p_eta_sq']\n",
        "    aov = aov[cols]\n",
        "    return aov\n",
        "\n",
        "model = ols('weight ~ group', data = df).fit()\n",
        "aov_table = sm.stats.anova_lm(model, typ = 2)\n",
        "print(\"\\n ANOVA\")\n",
        "anova_table(aov_table)"
      ],
      "metadata": {
        "colab": {
          "base_uri": "https://localhost:8080/",
          "height": 148
        },
        "id": "FkqgBWPJ_SUr",
        "outputId": "60df018c-876d-46a0-ba6f-020e08d4659c"
      },
      "execution_count": 195,
      "outputs": [
        {
          "output_type": "display_data",
          "data": {
            "text/plain": [
              "<IPython.core.display.HTML object>"
            ],
            "text/html": [
              "\n",
              "  <style>\n",
              "    pre {\n",
              "        white-space: pre-wrap;\n",
              "    }\n",
              "  </style>\n",
              "  "
            ]
          },
          "metadata": {}
        },
        {
          "output_type": "display_data",
          "data": {
            "text/plain": [
              "<IPython.core.display.HTML object>"
            ],
            "text/html": [
              "\n",
              "  <style>\n",
              "    pre {\n",
              "        white-space: pre-wrap;\n",
              "    }\n",
              "  </style>\n",
              "  "
            ]
          },
          "metadata": {}
        },
        {
          "output_type": "display_data",
          "data": {
            "text/plain": [
              "<IPython.core.display.HTML object>"
            ],
            "text/html": [
              "\n",
              "  <style>\n",
              "    pre {\n",
              "        white-space: pre-wrap;\n",
              "    }\n",
              "  </style>\n",
              "  "
            ]
          },
          "metadata": {}
        },
        {
          "output_type": "display_data",
          "data": {
            "text/plain": [
              "<IPython.core.display.HTML object>"
            ],
            "text/html": [
              "\n",
              "  <style>\n",
              "    pre {\n",
              "        white-space: pre-wrap;\n",
              "    }\n",
              "  </style>\n",
              "  "
            ]
          },
          "metadata": {}
        },
        {
          "output_type": "display_data",
          "data": {
            "text/plain": [
              "<IPython.core.display.HTML object>"
            ],
            "text/html": [
              "\n",
              "  <style>\n",
              "    pre {\n",
              "        white-space: pre-wrap;\n",
              "    }\n",
              "  </style>\n",
              "  "
            ]
          },
          "metadata": {}
        },
        {
          "output_type": "stream",
          "name": "stdout",
          "text": [
            "\n",
            " ANOVA\n"
          ]
        },
        {
          "output_type": "execute_result",
          "data": {
            "text/plain": [
              "            sum_sq    df   mean_sq         F   PR(>F)  p_eta_sq\n",
              "group      3.76634   2.0  1.883170  4.846088  0.01591  0.264148\n",
              "Residual  10.49209  27.0  0.388596       NaN      NaN       NaN"
            ],
            "text/html": [
              "\n",
              "  <div id=\"df-75970093-9c31-4a72-8b9b-6baa9492ef17\" class=\"colab-df-container\">\n",
              "    <div>\n",
              "<style scoped>\n",
              "    .dataframe tbody tr th:only-of-type {\n",
              "        vertical-align: middle;\n",
              "    }\n",
              "\n",
              "    .dataframe tbody tr th {\n",
              "        vertical-align: top;\n",
              "    }\n",
              "\n",
              "    .dataframe thead th {\n",
              "        text-align: right;\n",
              "    }\n",
              "</style>\n",
              "<table border=\"1\" class=\"dataframe\">\n",
              "  <thead>\n",
              "    <tr style=\"text-align: right;\">\n",
              "      <th></th>\n",
              "      <th>sum_sq</th>\n",
              "      <th>df</th>\n",
              "      <th>mean_sq</th>\n",
              "      <th>F</th>\n",
              "      <th>PR(&gt;F)</th>\n",
              "      <th>p_eta_sq</th>\n",
              "    </tr>\n",
              "  </thead>\n",
              "  <tbody>\n",
              "    <tr>\n",
              "      <th>group</th>\n",
              "      <td>3.76634</td>\n",
              "      <td>2.0</td>\n",
              "      <td>1.883170</td>\n",
              "      <td>4.846088</td>\n",
              "      <td>0.01591</td>\n",
              "      <td>0.264148</td>\n",
              "    </tr>\n",
              "    <tr>\n",
              "      <th>Residual</th>\n",
              "      <td>10.49209</td>\n",
              "      <td>27.0</td>\n",
              "      <td>0.388596</td>\n",
              "      <td>NaN</td>\n",
              "      <td>NaN</td>\n",
              "      <td>NaN</td>\n",
              "    </tr>\n",
              "  </tbody>\n",
              "</table>\n",
              "</div>\n",
              "    <div class=\"colab-df-buttons\">\n",
              "\n",
              "  <div class=\"colab-df-container\">\n",
              "    <button class=\"colab-df-convert\" onclick=\"convertToInteractive('df-75970093-9c31-4a72-8b9b-6baa9492ef17')\"\n",
              "            title=\"Convert this dataframe to an interactive table.\"\n",
              "            style=\"display:none;\">\n",
              "\n",
              "  <svg xmlns=\"http://www.w3.org/2000/svg\" height=\"24px\" viewBox=\"0 -960 960 960\">\n",
              "    <path d=\"M120-120v-720h720v720H120Zm60-500h600v-160H180v160Zm220 220h160v-160H400v160Zm0 220h160v-160H400v160ZM180-400h160v-160H180v160Zm440 0h160v-160H620v160ZM180-180h160v-160H180v160Zm440 0h160v-160H620v160Z\"/>\n",
              "  </svg>\n",
              "    </button>\n",
              "\n",
              "  <style>\n",
              "    .colab-df-container {\n",
              "      display:flex;\n",
              "      gap: 12px;\n",
              "    }\n",
              "\n",
              "    .colab-df-convert {\n",
              "      background-color: #E8F0FE;\n",
              "      border: none;\n",
              "      border-radius: 50%;\n",
              "      cursor: pointer;\n",
              "      display: none;\n",
              "      fill: #1967D2;\n",
              "      height: 32px;\n",
              "      padding: 0 0 0 0;\n",
              "      width: 32px;\n",
              "    }\n",
              "\n",
              "    .colab-df-convert:hover {\n",
              "      background-color: #E2EBFA;\n",
              "      box-shadow: 0px 1px 2px rgba(60, 64, 67, 0.3), 0px 1px 3px 1px rgba(60, 64, 67, 0.15);\n",
              "      fill: #174EA6;\n",
              "    }\n",
              "\n",
              "    .colab-df-buttons div {\n",
              "      margin-bottom: 4px;\n",
              "    }\n",
              "\n",
              "    [theme=dark] .colab-df-convert {\n",
              "      background-color: #3B4455;\n",
              "      fill: #D2E3FC;\n",
              "    }\n",
              "\n",
              "    [theme=dark] .colab-df-convert:hover {\n",
              "      background-color: #434B5C;\n",
              "      box-shadow: 0px 1px 3px 1px rgba(0, 0, 0, 0.15);\n",
              "      filter: drop-shadow(0px 1px 2px rgba(0, 0, 0, 0.3));\n",
              "      fill: #FFFFFF;\n",
              "    }\n",
              "  </style>\n",
              "\n",
              "    <script>\n",
              "      const buttonEl =\n",
              "        document.querySelector('#df-75970093-9c31-4a72-8b9b-6baa9492ef17 button.colab-df-convert');\n",
              "      buttonEl.style.display =\n",
              "        google.colab.kernel.accessAllowed ? 'block' : 'none';\n",
              "\n",
              "      async function convertToInteractive(key) {\n",
              "        const element = document.querySelector('#df-75970093-9c31-4a72-8b9b-6baa9492ef17');\n",
              "        const dataTable =\n",
              "          await google.colab.kernel.invokeFunction('convertToInteractive',\n",
              "                                                    [key], {});\n",
              "        if (!dataTable) return;\n",
              "\n",
              "        const docLinkHtml = 'Like what you see? Visit the ' +\n",
              "          '<a target=\"_blank\" href=https://colab.research.google.com/notebooks/data_table.ipynb>data table notebook</a>'\n",
              "          + ' to learn more about interactive tables.';\n",
              "        element.innerHTML = '';\n",
              "        dataTable['output_type'] = 'display_data';\n",
              "        await google.colab.output.renderOutput(dataTable, element);\n",
              "        const docLink = document.createElement('div');\n",
              "        docLink.innerHTML = docLinkHtml;\n",
              "        element.appendChild(docLink);\n",
              "      }\n",
              "    </script>\n",
              "  </div>\n",
              "\n",
              "\n",
              "<div id=\"df-3ad09828-1e3b-49d7-8961-b3f14b055f3a\">\n",
              "  <button class=\"colab-df-quickchart\" onclick=\"quickchart('df-3ad09828-1e3b-49d7-8961-b3f14b055f3a')\"\n",
              "            title=\"Suggest charts\"\n",
              "            style=\"display:none;\">\n",
              "\n",
              "<svg xmlns=\"http://www.w3.org/2000/svg\" height=\"24px\"viewBox=\"0 0 24 24\"\n",
              "     width=\"24px\">\n",
              "    <g>\n",
              "        <path d=\"M19 3H5c-1.1 0-2 .9-2 2v14c0 1.1.9 2 2 2h14c1.1 0 2-.9 2-2V5c0-1.1-.9-2-2-2zM9 17H7v-7h2v7zm4 0h-2V7h2v10zm4 0h-2v-4h2v4z\"/>\n",
              "    </g>\n",
              "</svg>\n",
              "  </button>\n",
              "\n",
              "<style>\n",
              "  .colab-df-quickchart {\n",
              "      --bg-color: #E8F0FE;\n",
              "      --fill-color: #1967D2;\n",
              "      --hover-bg-color: #E2EBFA;\n",
              "      --hover-fill-color: #174EA6;\n",
              "      --disabled-fill-color: #AAA;\n",
              "      --disabled-bg-color: #DDD;\n",
              "  }\n",
              "\n",
              "  [theme=dark] .colab-df-quickchart {\n",
              "      --bg-color: #3B4455;\n",
              "      --fill-color: #D2E3FC;\n",
              "      --hover-bg-color: #434B5C;\n",
              "      --hover-fill-color: #FFFFFF;\n",
              "      --disabled-bg-color: #3B4455;\n",
              "      --disabled-fill-color: #666;\n",
              "  }\n",
              "\n",
              "  .colab-df-quickchart {\n",
              "    background-color: var(--bg-color);\n",
              "    border: none;\n",
              "    border-radius: 50%;\n",
              "    cursor: pointer;\n",
              "    display: none;\n",
              "    fill: var(--fill-color);\n",
              "    height: 32px;\n",
              "    padding: 0;\n",
              "    width: 32px;\n",
              "  }\n",
              "\n",
              "  .colab-df-quickchart:hover {\n",
              "    background-color: var(--hover-bg-color);\n",
              "    box-shadow: 0 1px 2px rgba(60, 64, 67, 0.3), 0 1px 3px 1px rgba(60, 64, 67, 0.15);\n",
              "    fill: var(--button-hover-fill-color);\n",
              "  }\n",
              "\n",
              "  .colab-df-quickchart-complete:disabled,\n",
              "  .colab-df-quickchart-complete:disabled:hover {\n",
              "    background-color: var(--disabled-bg-color);\n",
              "    fill: var(--disabled-fill-color);\n",
              "    box-shadow: none;\n",
              "  }\n",
              "\n",
              "  .colab-df-spinner {\n",
              "    border: 2px solid var(--fill-color);\n",
              "    border-color: transparent;\n",
              "    border-bottom-color: var(--fill-color);\n",
              "    animation:\n",
              "      spin 1s steps(1) infinite;\n",
              "  }\n",
              "\n",
              "  @keyframes spin {\n",
              "    0% {\n",
              "      border-color: transparent;\n",
              "      border-bottom-color: var(--fill-color);\n",
              "      border-left-color: var(--fill-color);\n",
              "    }\n",
              "    20% {\n",
              "      border-color: transparent;\n",
              "      border-left-color: var(--fill-color);\n",
              "      border-top-color: var(--fill-color);\n",
              "    }\n",
              "    30% {\n",
              "      border-color: transparent;\n",
              "      border-left-color: var(--fill-color);\n",
              "      border-top-color: var(--fill-color);\n",
              "      border-right-color: var(--fill-color);\n",
              "    }\n",
              "    40% {\n",
              "      border-color: transparent;\n",
              "      border-right-color: var(--fill-color);\n",
              "      border-top-color: var(--fill-color);\n",
              "    }\n",
              "    60% {\n",
              "      border-color: transparent;\n",
              "      border-right-color: var(--fill-color);\n",
              "    }\n",
              "    80% {\n",
              "      border-color: transparent;\n",
              "      border-right-color: var(--fill-color);\n",
              "      border-bottom-color: var(--fill-color);\n",
              "    }\n",
              "    90% {\n",
              "      border-color: transparent;\n",
              "      border-bottom-color: var(--fill-color);\n",
              "    }\n",
              "  }\n",
              "</style>\n",
              "\n",
              "  <script>\n",
              "    async function quickchart(key) {\n",
              "      const quickchartButtonEl =\n",
              "        document.querySelector('#' + key + ' button');\n",
              "      quickchartButtonEl.disabled = true;  // To prevent multiple clicks.\n",
              "      quickchartButtonEl.classList.add('colab-df-spinner');\n",
              "      try {\n",
              "        const charts = await google.colab.kernel.invokeFunction(\n",
              "            'suggestCharts', [key], {});\n",
              "      } catch (error) {\n",
              "        console.error('Error during call to suggestCharts:', error);\n",
              "      }\n",
              "      quickchartButtonEl.classList.remove('colab-df-spinner');\n",
              "      quickchartButtonEl.classList.add('colab-df-quickchart-complete');\n",
              "    }\n",
              "    (() => {\n",
              "      let quickchartButtonEl =\n",
              "        document.querySelector('#df-3ad09828-1e3b-49d7-8961-b3f14b055f3a button');\n",
              "      quickchartButtonEl.style.display =\n",
              "        google.colab.kernel.accessAllowed ? 'block' : 'none';\n",
              "    })();\n",
              "  </script>\n",
              "</div>\n",
              "    </div>\n",
              "  </div>\n"
            ]
          },
          "metadata": {},
          "execution_count": 195
        }
      ]
    },
    {
      "cell_type": "code",
      "source": [
        "# checking the descriptive for each group using Shapiro-Wilk test\n",
        "group_0 = df[df['group'] == 'ctrl']['weight']\n",
        "group_1 = df[df['group'] == 'trt1']['weight']\n",
        "group_2 = df[df['group'] == 'trt2']['weight']\n",
        "\n",
        "# create a new dataframe\n",
        "new_df = pd.DataFrame({'Control': group_0, 'Treatment 1': group_1, 'Treatment 2': group_2})\n",
        "\n",
        "# use describe() on the new dataframe\n",
        "results = new_df.describe().loc[['count','mean', 'std']]\n",
        "\n",
        "print(\"\\n Descriptives\")\n",
        "results.style.format(\"{:,.2f}\")"
      ],
      "metadata": {
        "colab": {
          "base_uri": "https://localhost:8080/",
          "height": 180
        },
        "id": "l2kMObiJDn_C",
        "outputId": "2d61e1b6-acb7-4a4c-df48-ede335d617cb"
      },
      "execution_count": 196,
      "outputs": [
        {
          "output_type": "display_data",
          "data": {
            "text/plain": [
              "<IPython.core.display.HTML object>"
            ],
            "text/html": [
              "\n",
              "  <style>\n",
              "    pre {\n",
              "        white-space: pre-wrap;\n",
              "    }\n",
              "  </style>\n",
              "  "
            ]
          },
          "metadata": {}
        },
        {
          "output_type": "display_data",
          "data": {
            "text/plain": [
              "<IPython.core.display.HTML object>"
            ],
            "text/html": [
              "\n",
              "  <style>\n",
              "    pre {\n",
              "        white-space: pre-wrap;\n",
              "    }\n",
              "  </style>\n",
              "  "
            ]
          },
          "metadata": {}
        },
        {
          "output_type": "display_data",
          "data": {
            "text/plain": [
              "<IPython.core.display.HTML object>"
            ],
            "text/html": [
              "\n",
              "  <style>\n",
              "    pre {\n",
              "        white-space: pre-wrap;\n",
              "    }\n",
              "  </style>\n",
              "  "
            ]
          },
          "metadata": {}
        },
        {
          "output_type": "display_data",
          "data": {
            "text/plain": [
              "<IPython.core.display.HTML object>"
            ],
            "text/html": [
              "\n",
              "  <style>\n",
              "    pre {\n",
              "        white-space: pre-wrap;\n",
              "    }\n",
              "  </style>\n",
              "  "
            ]
          },
          "metadata": {}
        },
        {
          "output_type": "display_data",
          "data": {
            "text/plain": [
              "<IPython.core.display.HTML object>"
            ],
            "text/html": [
              "\n",
              "  <style>\n",
              "    pre {\n",
              "        white-space: pre-wrap;\n",
              "    }\n",
              "  </style>\n",
              "  "
            ]
          },
          "metadata": {}
        },
        {
          "output_type": "stream",
          "name": "stdout",
          "text": [
            "\n",
            " Descriptives\n"
          ]
        },
        {
          "output_type": "execute_result",
          "data": {
            "text/plain": [
              "<pandas.io.formats.style.Styler at 0x7a57cb685210>"
            ],
            "text/html": [
              "<style type=\"text/css\">\n",
              "</style>\n",
              "<table id=\"T_b28b5\" class=\"dataframe\">\n",
              "  <thead>\n",
              "    <tr>\n",
              "      <th class=\"blank level0\" >&nbsp;</th>\n",
              "      <th id=\"T_b28b5_level0_col0\" class=\"col_heading level0 col0\" >Control</th>\n",
              "      <th id=\"T_b28b5_level0_col1\" class=\"col_heading level0 col1\" >Treatment 1</th>\n",
              "      <th id=\"T_b28b5_level0_col2\" class=\"col_heading level0 col2\" >Treatment 2</th>\n",
              "    </tr>\n",
              "  </thead>\n",
              "  <tbody>\n",
              "    <tr>\n",
              "      <th id=\"T_b28b5_level0_row0\" class=\"row_heading level0 row0\" >count</th>\n",
              "      <td id=\"T_b28b5_row0_col0\" class=\"data row0 col0\" >10.00</td>\n",
              "      <td id=\"T_b28b5_row0_col1\" class=\"data row0 col1\" >10.00</td>\n",
              "      <td id=\"T_b28b5_row0_col2\" class=\"data row0 col2\" >10.00</td>\n",
              "    </tr>\n",
              "    <tr>\n",
              "      <th id=\"T_b28b5_level0_row1\" class=\"row_heading level0 row1\" >mean</th>\n",
              "      <td id=\"T_b28b5_row1_col0\" class=\"data row1 col0\" >5.03</td>\n",
              "      <td id=\"T_b28b5_row1_col1\" class=\"data row1 col1\" >4.66</td>\n",
              "      <td id=\"T_b28b5_row1_col2\" class=\"data row1 col2\" >5.53</td>\n",
              "    </tr>\n",
              "    <tr>\n",
              "      <th id=\"T_b28b5_level0_row2\" class=\"row_heading level0 row2\" >std</th>\n",
              "      <td id=\"T_b28b5_row2_col0\" class=\"data row2 col0\" >0.58</td>\n",
              "      <td id=\"T_b28b5_row2_col1\" class=\"data row2 col1\" >0.79</td>\n",
              "      <td id=\"T_b28b5_row2_col2\" class=\"data row2 col2\" >0.44</td>\n",
              "    </tr>\n",
              "  </tbody>\n",
              "</table>\n"
            ]
          },
          "metadata": {},
          "execution_count": 196
        }
      ]
    },
    {
      "cell_type": "code",
      "source": [
        "import statsmodels.stats.multicomp as smm\n",
        "\n",
        "one_tukey_smm = smm.pairwise_tukeyhsd(endog=df['weight'],groups=df['group'])\n",
        "\n",
        "print(one_tukey_smm)"
      ],
      "metadata": {
        "colab": {
          "base_uri": "https://localhost:8080/",
          "height": 162
        },
        "id": "46zhT8C5mEfd",
        "outputId": "a01f7ca9-59a3-44b9-8b80-a3c36dee15a9"
      },
      "execution_count": 197,
      "outputs": [
        {
          "output_type": "display_data",
          "data": {
            "text/plain": [
              "<IPython.core.display.HTML object>"
            ],
            "text/html": [
              "\n",
              "  <style>\n",
              "    pre {\n",
              "        white-space: pre-wrap;\n",
              "    }\n",
              "  </style>\n",
              "  "
            ]
          },
          "metadata": {}
        },
        {
          "output_type": "display_data",
          "data": {
            "text/plain": [
              "<IPython.core.display.HTML object>"
            ],
            "text/html": [
              "\n",
              "  <style>\n",
              "    pre {\n",
              "        white-space: pre-wrap;\n",
              "    }\n",
              "  </style>\n",
              "  "
            ]
          },
          "metadata": {}
        },
        {
          "output_type": "display_data",
          "data": {
            "text/plain": [
              "<IPython.core.display.HTML object>"
            ],
            "text/html": [
              "\n",
              "  <style>\n",
              "    pre {\n",
              "        white-space: pre-wrap;\n",
              "    }\n",
              "  </style>\n",
              "  "
            ]
          },
          "metadata": {}
        },
        {
          "output_type": "display_data",
          "data": {
            "text/plain": [
              "<IPython.core.display.HTML object>"
            ],
            "text/html": [
              "\n",
              "  <style>\n",
              "    pre {\n",
              "        white-space: pre-wrap;\n",
              "    }\n",
              "  </style>\n",
              "  "
            ]
          },
          "metadata": {}
        },
        {
          "output_type": "display_data",
          "data": {
            "text/plain": [
              "<IPython.core.display.HTML object>"
            ],
            "text/html": [
              "\n",
              "  <style>\n",
              "    pre {\n",
              "        white-space: pre-wrap;\n",
              "    }\n",
              "  </style>\n",
              "  "
            ]
          },
          "metadata": {}
        },
        {
          "output_type": "stream",
          "name": "stdout",
          "text": [
            "Multiple Comparison of Means - Tukey HSD, FWER=0.05\n",
            "===================================================\n",
            "group1 group2 meandiff p-adj   lower  upper  reject\n",
            "---------------------------------------------------\n",
            "  ctrl   trt1   -0.371 0.3909 -1.0622 0.3202  False\n",
            "  ctrl   trt2    0.494  0.198 -0.1972 1.1852  False\n",
            "  trt1   trt2    0.865  0.012  0.1738 1.5562   True\n",
            "---------------------------------------------------\n"
          ]
        }
      ]
    },
    {
      "cell_type": "markdown",
      "source": [
        "### **Reporting**\n",
        "\n"
      ],
      "metadata": {
        "id": "X2uMS3c33gYV"
      }
    },
    {
      "cell_type": "markdown",
      "source": [
        "A one-way ANOVA was conducted to evaluate if the plant growth was different for groups with different treatments. Plants were classified into three groups: control (n = 10), treatment 1 (n = 10),and treatment 2 (n = 10). There were no outliers, as assessed by visual inspection of boxplot; data was normally distributed for each group, as assessed by Shapiro-Wilk test (p > .05); and there was homogeneity of variances, as assessed by Levene's test of homogeneity of variances (p = .34). Data is presented as mean ± standard deviation. Plant growth was statistically significantly different between between different treatment groups, F(2, 27) = 4.85, p = 0.016, η²p\n",
        "= 0.26. Plant growth decreased in trt1 group (M = 4.66, SD = 0.79) compared to ctr group (M = 5.03 +/- 0.58). It increased in trt2 group (M = 5.53, SD = 0.44) compared to trt1 and ctr group. Tukey post-hoc analyses revealed that the increase from trt1 to trt2 (0.87, 95% CI(0.17 to 1.56)) was statistically significant (p = 0.012), but no other group differences were statistically significant."
      ],
      "metadata": {
        "id": "62HqNU7hnxLP"
      }
    }
  ]
}